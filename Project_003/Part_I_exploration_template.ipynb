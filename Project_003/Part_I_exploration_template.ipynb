{
 "cells": [
  {
   "cell_type": "markdown",
   "metadata": {},
   "source": [
    "# Part I - (Dataset Exploration Title)\n",
    "## by (your name here)\n",
    "\n",
    "## Introduction\n",
    "> Introduce the dataset\n",
    "\n",
    ">**Rubric Tip**: Your code should not generate any errors, and should use functions, loops where possible to reduce repetitive code. Prefer to use functions to reuse code statements.\n",
    "\n",
    "> **Rubric Tip**: Document your approach and findings in markdown cells. Use comments and docstrings in code cells to document the code functionality.\n",
    "\n",
    ">**Rubric Tip**: Markup cells should have headers and text that organize your thoughts, findings, and what you plan on investigating next.  \n",
    "\n",
    "\n",
    "\n",
    "## Preliminary Wrangling\n"
   ]
  },
  {
   "cell_type": "code",
   "execution_count": 1,
   "metadata": {},
   "outputs": [],
   "source": [
    "# import all packages and set plots to be embedded inline\n",
    "import numpy as np\n",
    "import pandas as pd\n",
    "import matplotlib.pyplot as plt\n",
    "import seaborn as sb\n",
    "\n",
    "%matplotlib inline"
   ]
  },
  {
   "cell_type": "markdown",
   "metadata": {},
   "source": [
    "> Load in your dataset and describe its properties through the questions below. Try and motivate your exploration goals through this section.\n"
   ]
  },
  {
   "cell_type": "code",
   "execution_count": 2,
   "metadata": {},
   "outputs": [],
   "source": [
    "df = pd.read_csv('201902-fordgobike-tripdata.csv')"
   ]
  },
  {
   "cell_type": "code",
   "execution_count": 3,
   "metadata": {},
   "outputs": [
    {
     "data": {
      "text/plain": [
       "(183412, 16)"
      ]
     },
     "execution_count": 3,
     "metadata": {},
     "output_type": "execute_result"
    }
   ],
   "source": [
    "df.shape"
   ]
  },
  {
   "cell_type": "code",
   "execution_count": 4,
   "metadata": {},
   "outputs": [
    {
     "name": "stdout",
     "output_type": "stream",
     "text": [
      "<class 'pandas.core.frame.DataFrame'>\n",
      "RangeIndex: 183412 entries, 0 to 183411\n",
      "Data columns (total 16 columns):\n",
      " #   Column                   Non-Null Count   Dtype  \n",
      "---  ------                   --------------   -----  \n",
      " 0   duration_sec             183412 non-null  int64  \n",
      " 1   start_time               183412 non-null  object \n",
      " 2   end_time                 183412 non-null  object \n",
      " 3   start_station_id         183215 non-null  float64\n",
      " 4   start_station_name       183215 non-null  object \n",
      " 5   start_station_latitude   183412 non-null  float64\n",
      " 6   start_station_longitude  183412 non-null  float64\n",
      " 7   end_station_id           183215 non-null  float64\n",
      " 8   end_station_name         183215 non-null  object \n",
      " 9   end_station_latitude     183412 non-null  float64\n",
      " 10  end_station_longitude    183412 non-null  float64\n",
      " 11  bike_id                  183412 non-null  int64  \n",
      " 12  user_type                183412 non-null  object \n",
      " 13  member_birth_year        175147 non-null  float64\n",
      " 14  member_gender            175147 non-null  object \n",
      " 15  bike_share_for_all_trip  183412 non-null  object \n",
      "dtypes: float64(7), int64(2), object(7)\n",
      "memory usage: 22.4+ MB\n"
     ]
    }
   ],
   "source": [
    "df.info()"
   ]
  },
  {
   "cell_type": "code",
   "execution_count": 5,
   "metadata": {},
   "outputs": [
    {
     "data": {
      "text/html": [
       "<div>\n",
       "<style scoped>\n",
       "    .dataframe tbody tr th:only-of-type {\n",
       "        vertical-align: middle;\n",
       "    }\n",
       "\n",
       "    .dataframe tbody tr th {\n",
       "        vertical-align: top;\n",
       "    }\n",
       "\n",
       "    .dataframe thead th {\n",
       "        text-align: right;\n",
       "    }\n",
       "</style>\n",
       "<table border=\"1\" class=\"dataframe\">\n",
       "  <thead>\n",
       "    <tr style=\"text-align: right;\">\n",
       "      <th></th>\n",
       "      <th>duration_sec</th>\n",
       "      <th>start_time</th>\n",
       "      <th>end_time</th>\n",
       "      <th>start_station_id</th>\n",
       "      <th>start_station_name</th>\n",
       "      <th>start_station_latitude</th>\n",
       "      <th>start_station_longitude</th>\n",
       "      <th>end_station_id</th>\n",
       "      <th>end_station_name</th>\n",
       "      <th>end_station_latitude</th>\n",
       "      <th>end_station_longitude</th>\n",
       "      <th>bike_id</th>\n",
       "      <th>user_type</th>\n",
       "      <th>member_birth_year</th>\n",
       "      <th>member_gender</th>\n",
       "      <th>bike_share_for_all_trip</th>\n",
       "    </tr>\n",
       "  </thead>\n",
       "  <tbody>\n",
       "    <tr>\n",
       "      <th>116293</th>\n",
       "      <td>610</td>\n",
       "      <td>2019-02-12 07:54:41.6510</td>\n",
       "      <td>2019-02-12 08:04:51.6640</td>\n",
       "      <td>323.0</td>\n",
       "      <td>Broadway at Kearny</td>\n",
       "      <td>37.798014</td>\n",
       "      <td>-122.405950</td>\n",
       "      <td>349.0</td>\n",
       "      <td>Howard St at Mary St</td>\n",
       "      <td>37.781010</td>\n",
       "      <td>-122.405666</td>\n",
       "      <td>875</td>\n",
       "      <td>Customer</td>\n",
       "      <td>1993.0</td>\n",
       "      <td>Male</td>\n",
       "      <td>No</td>\n",
       "    </tr>\n",
       "    <tr>\n",
       "      <th>9189</th>\n",
       "      <td>653</td>\n",
       "      <td>2019-02-28 07:36:06.0260</td>\n",
       "      <td>2019-02-28 07:46:59.5870</td>\n",
       "      <td>86.0</td>\n",
       "      <td>Market St at Dolores St</td>\n",
       "      <td>37.769305</td>\n",
       "      <td>-122.426826</td>\n",
       "      <td>3.0</td>\n",
       "      <td>Powell St BART Station (Market St at 4th St)</td>\n",
       "      <td>37.786375</td>\n",
       "      <td>-122.404904</td>\n",
       "      <td>1434</td>\n",
       "      <td>Subscriber</td>\n",
       "      <td>1990.0</td>\n",
       "      <td>Male</td>\n",
       "      <td>No</td>\n",
       "    </tr>\n",
       "    <tr>\n",
       "      <th>155995</th>\n",
       "      <td>1298</td>\n",
       "      <td>2019-02-06 08:08:43.4660</td>\n",
       "      <td>2019-02-06 08:30:21.5100</td>\n",
       "      <td>371.0</td>\n",
       "      <td>Lombard St at Columbus Ave</td>\n",
       "      <td>37.802746</td>\n",
       "      <td>-122.413579</td>\n",
       "      <td>17.0</td>\n",
       "      <td>Embarcadero BART Station (Beale St at Market St)</td>\n",
       "      <td>37.792251</td>\n",
       "      <td>-122.397086</td>\n",
       "      <td>1248</td>\n",
       "      <td>Subscriber</td>\n",
       "      <td>1990.0</td>\n",
       "      <td>Male</td>\n",
       "      <td>No</td>\n",
       "    </tr>\n",
       "    <tr>\n",
       "      <th>134389</th>\n",
       "      <td>805</td>\n",
       "      <td>2019-02-08 17:24:46.3790</td>\n",
       "      <td>2019-02-08 17:38:12.3440</td>\n",
       "      <td>58.0</td>\n",
       "      <td>Market St at 10th St</td>\n",
       "      <td>37.776619</td>\n",
       "      <td>-122.417385</td>\n",
       "      <td>93.0</td>\n",
       "      <td>4th St at Mission Bay Blvd S</td>\n",
       "      <td>37.770407</td>\n",
       "      <td>-122.391198</td>\n",
       "      <td>4557</td>\n",
       "      <td>Subscriber</td>\n",
       "      <td>1989.0</td>\n",
       "      <td>Male</td>\n",
       "      <td>No</td>\n",
       "    </tr>\n",
       "    <tr>\n",
       "      <th>80060</th>\n",
       "      <td>481</td>\n",
       "      <td>2019-02-18 16:22:40.9260</td>\n",
       "      <td>2019-02-18 16:30:42.7150</td>\n",
       "      <td>171.0</td>\n",
       "      <td>Rockridge BART Station</td>\n",
       "      <td>37.844279</td>\n",
       "      <td>-122.251900</td>\n",
       "      <td>18.0</td>\n",
       "      <td>Telegraph Ave at Alcatraz Ave</td>\n",
       "      <td>37.850222</td>\n",
       "      <td>-122.260172</td>\n",
       "      <td>4904</td>\n",
       "      <td>Subscriber</td>\n",
       "      <td>1975.0</td>\n",
       "      <td>Female</td>\n",
       "      <td>No</td>\n",
       "    </tr>\n",
       "    <tr>\n",
       "      <th>98770</th>\n",
       "      <td>251</td>\n",
       "      <td>2019-02-15 06:48:19.5600</td>\n",
       "      <td>2019-02-15 06:52:30.6540</td>\n",
       "      <td>81.0</td>\n",
       "      <td>Berry St at 4th St</td>\n",
       "      <td>37.775880</td>\n",
       "      <td>-122.393170</td>\n",
       "      <td>104.0</td>\n",
       "      <td>4th St at 16th St</td>\n",
       "      <td>37.767045</td>\n",
       "      <td>-122.390833</td>\n",
       "      <td>311</td>\n",
       "      <td>Subscriber</td>\n",
       "      <td>1990.0</td>\n",
       "      <td>Female</td>\n",
       "      <td>Yes</td>\n",
       "    </tr>\n",
       "    <tr>\n",
       "      <th>144669</th>\n",
       "      <td>560</td>\n",
       "      <td>2019-02-07 11:26:24.1850</td>\n",
       "      <td>2019-02-07 11:35:44.7370</td>\n",
       "      <td>27.0</td>\n",
       "      <td>Beale St at Harrison St</td>\n",
       "      <td>37.788059</td>\n",
       "      <td>-122.391865</td>\n",
       "      <td>6.0</td>\n",
       "      <td>The Embarcadero at Sansome St</td>\n",
       "      <td>37.804770</td>\n",
       "      <td>-122.403234</td>\n",
       "      <td>4450</td>\n",
       "      <td>Subscriber</td>\n",
       "      <td>1999.0</td>\n",
       "      <td>Female</td>\n",
       "      <td>No</td>\n",
       "    </tr>\n",
       "    <tr>\n",
       "      <th>167458</th>\n",
       "      <td>282</td>\n",
       "      <td>2019-02-04 17:17:33.4470</td>\n",
       "      <td>2019-02-04 17:22:16.2890</td>\n",
       "      <td>13.0</td>\n",
       "      <td>Commercial St at Montgomery St</td>\n",
       "      <td>37.794231</td>\n",
       "      <td>-122.402923</td>\n",
       "      <td>21.0</td>\n",
       "      <td>Montgomery St BART Station (Market St at 2nd St)</td>\n",
       "      <td>37.789625</td>\n",
       "      <td>-122.400811</td>\n",
       "      <td>1537</td>\n",
       "      <td>Subscriber</td>\n",
       "      <td>1981.0</td>\n",
       "      <td>Female</td>\n",
       "      <td>No</td>\n",
       "    </tr>\n",
       "    <tr>\n",
       "      <th>141708</th>\n",
       "      <td>1060</td>\n",
       "      <td>2019-02-07 17:36:17.0660</td>\n",
       "      <td>2019-02-07 17:53:57.6750</td>\n",
       "      <td>17.0</td>\n",
       "      <td>Embarcadero BART Station (Beale St at Market St)</td>\n",
       "      <td>37.792251</td>\n",
       "      <td>-122.397086</td>\n",
       "      <td>126.0</td>\n",
       "      <td>Esprit Park</td>\n",
       "      <td>37.761634</td>\n",
       "      <td>-122.390648</td>\n",
       "      <td>663</td>\n",
       "      <td>Customer</td>\n",
       "      <td>1972.0</td>\n",
       "      <td>Female</td>\n",
       "      <td>No</td>\n",
       "    </tr>\n",
       "    <tr>\n",
       "      <th>83782</th>\n",
       "      <td>641</td>\n",
       "      <td>2019-02-17 20:29:09.3450</td>\n",
       "      <td>2019-02-17 20:39:50.4770</td>\n",
       "      <td>280.0</td>\n",
       "      <td>San Fernando St at 7th St</td>\n",
       "      <td>37.337122</td>\n",
       "      <td>-121.883215</td>\n",
       "      <td>277.0</td>\n",
       "      <td>Morrison Ave at Julian St</td>\n",
       "      <td>37.333658</td>\n",
       "      <td>-121.908586</td>\n",
       "      <td>3982</td>\n",
       "      <td>Subscriber</td>\n",
       "      <td>1994.0</td>\n",
       "      <td>Male</td>\n",
       "      <td>Yes</td>\n",
       "    </tr>\n",
       "    <tr>\n",
       "      <th>98623</th>\n",
       "      <td>318</td>\n",
       "      <td>2019-02-15 07:25:43.8200</td>\n",
       "      <td>2019-02-15 07:31:02.6320</td>\n",
       "      <td>91.0</td>\n",
       "      <td>Berry St at King St</td>\n",
       "      <td>37.771762</td>\n",
       "      <td>-122.398438</td>\n",
       "      <td>62.0</td>\n",
       "      <td>Victoria Manalo Draves Park</td>\n",
       "      <td>37.777791</td>\n",
       "      <td>-122.406432</td>\n",
       "      <td>6132</td>\n",
       "      <td>Subscriber</td>\n",
       "      <td>1995.0</td>\n",
       "      <td>Female</td>\n",
       "      <td>No</td>\n",
       "    </tr>\n",
       "    <tr>\n",
       "      <th>98335</th>\n",
       "      <td>630</td>\n",
       "      <td>2019-02-15 07:53:05.2480</td>\n",
       "      <td>2019-02-15 08:03:35.3140</td>\n",
       "      <td>324.0</td>\n",
       "      <td>Union Square (Powell St at Post St)</td>\n",
       "      <td>37.788300</td>\n",
       "      <td>-122.408531</td>\n",
       "      <td>80.0</td>\n",
       "      <td>Townsend St at 5th St</td>\n",
       "      <td>37.775235</td>\n",
       "      <td>-122.397437</td>\n",
       "      <td>2672</td>\n",
       "      <td>Customer</td>\n",
       "      <td>1981.0</td>\n",
       "      <td>Male</td>\n",
       "      <td>No</td>\n",
       "    </tr>\n",
       "    <tr>\n",
       "      <th>98629</th>\n",
       "      <td>1072</td>\n",
       "      <td>2019-02-15 07:12:23.0440</td>\n",
       "      <td>2019-02-15 07:30:15.9240</td>\n",
       "      <td>95.0</td>\n",
       "      <td>Sanchez St at 15th St</td>\n",
       "      <td>37.766219</td>\n",
       "      <td>-122.431060</td>\n",
       "      <td>6.0</td>\n",
       "      <td>The Embarcadero at Sansome St</td>\n",
       "      <td>37.804770</td>\n",
       "      <td>-122.403234</td>\n",
       "      <td>5286</td>\n",
       "      <td>Subscriber</td>\n",
       "      <td>1988.0</td>\n",
       "      <td>Female</td>\n",
       "      <td>No</td>\n",
       "    </tr>\n",
       "    <tr>\n",
       "      <th>177597</th>\n",
       "      <td>1430</td>\n",
       "      <td>2019-02-01 19:55:48.0120</td>\n",
       "      <td>2019-02-01 20:19:38.9510</td>\n",
       "      <td>16.0</td>\n",
       "      <td>Steuart St at Market St</td>\n",
       "      <td>37.794130</td>\n",
       "      <td>-122.394430</td>\n",
       "      <td>114.0</td>\n",
       "      <td>Rhode Island St at 17th St</td>\n",
       "      <td>37.764478</td>\n",
       "      <td>-122.402570</td>\n",
       "      <td>2663</td>\n",
       "      <td>Customer</td>\n",
       "      <td>1980.0</td>\n",
       "      <td>Female</td>\n",
       "      <td>No</td>\n",
       "    </tr>\n",
       "    <tr>\n",
       "      <th>44316</th>\n",
       "      <td>618</td>\n",
       "      <td>2019-02-22 14:58:17.4470</td>\n",
       "      <td>2019-02-22 15:08:35.7200</td>\n",
       "      <td>23.0</td>\n",
       "      <td>The Embarcadero at Steuart St</td>\n",
       "      <td>37.791464</td>\n",
       "      <td>-122.391034</td>\n",
       "      <td>61.0</td>\n",
       "      <td>Howard St at 8th St</td>\n",
       "      <td>37.776513</td>\n",
       "      <td>-122.411306</td>\n",
       "      <td>6500</td>\n",
       "      <td>Subscriber</td>\n",
       "      <td>1977.0</td>\n",
       "      <td>Male</td>\n",
       "      <td>Yes</td>\n",
       "    </tr>\n",
       "    <tr>\n",
       "      <th>149512</th>\n",
       "      <td>727</td>\n",
       "      <td>2019-02-06 19:08:18.8370</td>\n",
       "      <td>2019-02-06 19:20:26.0390</td>\n",
       "      <td>355.0</td>\n",
       "      <td>23rd St at Tennessee St</td>\n",
       "      <td>37.755367</td>\n",
       "      <td>-122.388795</td>\n",
       "      <td>144.0</td>\n",
       "      <td>Precita Park</td>\n",
       "      <td>37.747300</td>\n",
       "      <td>-122.411403</td>\n",
       "      <td>3040</td>\n",
       "      <td>Subscriber</td>\n",
       "      <td>1982.0</td>\n",
       "      <td>Male</td>\n",
       "      <td>No</td>\n",
       "    </tr>\n",
       "    <tr>\n",
       "      <th>172503</th>\n",
       "      <td>731</td>\n",
       "      <td>2019-02-03 15:40:53.4260</td>\n",
       "      <td>2019-02-03 15:53:04.6690</td>\n",
       "      <td>43.0</td>\n",
       "      <td>San Francisco Public Library (Grove St at Hyde...</td>\n",
       "      <td>37.778768</td>\n",
       "      <td>-122.415929</td>\n",
       "      <td>70.0</td>\n",
       "      <td>Central Ave at Fell St</td>\n",
       "      <td>37.773311</td>\n",
       "      <td>-122.444293</td>\n",
       "      <td>5228</td>\n",
       "      <td>Subscriber</td>\n",
       "      <td>1986.0</td>\n",
       "      <td>Male</td>\n",
       "      <td>No</td>\n",
       "    </tr>\n",
       "    <tr>\n",
       "      <th>2221</th>\n",
       "      <td>166</td>\n",
       "      <td>2019-02-28 18:22:15.6630</td>\n",
       "      <td>2019-02-28 18:25:01.8310</td>\n",
       "      <td>7.0</td>\n",
       "      <td>Frank H Ogawa Plaza</td>\n",
       "      <td>37.804562</td>\n",
       "      <td>-122.271738</td>\n",
       "      <td>182.0</td>\n",
       "      <td>19th Street BART Station</td>\n",
       "      <td>37.809013</td>\n",
       "      <td>-122.268247</td>\n",
       "      <td>5613</td>\n",
       "      <td>Subscriber</td>\n",
       "      <td>1980.0</td>\n",
       "      <td>Other</td>\n",
       "      <td>Yes</td>\n",
       "    </tr>\n",
       "    <tr>\n",
       "      <th>164078</th>\n",
       "      <td>255</td>\n",
       "      <td>2019-02-05 08:48:11.3300</td>\n",
       "      <td>2019-02-05 08:52:27.0860</td>\n",
       "      <td>107.0</td>\n",
       "      <td>17th St at Dolores St</td>\n",
       "      <td>37.763015</td>\n",
       "      <td>-122.426497</td>\n",
       "      <td>223.0</td>\n",
       "      <td>16th St Mission BART Station 2</td>\n",
       "      <td>37.764765</td>\n",
       "      <td>-122.420091</td>\n",
       "      <td>518</td>\n",
       "      <td>Subscriber</td>\n",
       "      <td>1965.0</td>\n",
       "      <td>Male</td>\n",
       "      <td>No</td>\n",
       "    </tr>\n",
       "    <tr>\n",
       "      <th>110200</th>\n",
       "      <td>171</td>\n",
       "      <td>2019-02-12 18:16:07.3780</td>\n",
       "      <td>2019-02-12 18:18:59.2720</td>\n",
       "      <td>276.0</td>\n",
       "      <td>Julian St at The Alameda</td>\n",
       "      <td>37.332233</td>\n",
       "      <td>-121.912516</td>\n",
       "      <td>278.0</td>\n",
       "      <td>The Alameda at Bush St</td>\n",
       "      <td>37.331932</td>\n",
       "      <td>-121.904888</td>\n",
       "      <td>3901</td>\n",
       "      <td>Subscriber</td>\n",
       "      <td>1992.0</td>\n",
       "      <td>Male</td>\n",
       "      <td>Yes</td>\n",
       "    </tr>\n",
       "  </tbody>\n",
       "</table>\n",
       "</div>"
      ],
      "text/plain": [
       "        duration_sec                start_time                  end_time  \\\n",
       "116293           610  2019-02-12 07:54:41.6510  2019-02-12 08:04:51.6640   \n",
       "9189             653  2019-02-28 07:36:06.0260  2019-02-28 07:46:59.5870   \n",
       "155995          1298  2019-02-06 08:08:43.4660  2019-02-06 08:30:21.5100   \n",
       "134389           805  2019-02-08 17:24:46.3790  2019-02-08 17:38:12.3440   \n",
       "80060            481  2019-02-18 16:22:40.9260  2019-02-18 16:30:42.7150   \n",
       "98770            251  2019-02-15 06:48:19.5600  2019-02-15 06:52:30.6540   \n",
       "144669           560  2019-02-07 11:26:24.1850  2019-02-07 11:35:44.7370   \n",
       "167458           282  2019-02-04 17:17:33.4470  2019-02-04 17:22:16.2890   \n",
       "141708          1060  2019-02-07 17:36:17.0660  2019-02-07 17:53:57.6750   \n",
       "83782            641  2019-02-17 20:29:09.3450  2019-02-17 20:39:50.4770   \n",
       "98623            318  2019-02-15 07:25:43.8200  2019-02-15 07:31:02.6320   \n",
       "98335            630  2019-02-15 07:53:05.2480  2019-02-15 08:03:35.3140   \n",
       "98629           1072  2019-02-15 07:12:23.0440  2019-02-15 07:30:15.9240   \n",
       "177597          1430  2019-02-01 19:55:48.0120  2019-02-01 20:19:38.9510   \n",
       "44316            618  2019-02-22 14:58:17.4470  2019-02-22 15:08:35.7200   \n",
       "149512           727  2019-02-06 19:08:18.8370  2019-02-06 19:20:26.0390   \n",
       "172503           731  2019-02-03 15:40:53.4260  2019-02-03 15:53:04.6690   \n",
       "2221             166  2019-02-28 18:22:15.6630  2019-02-28 18:25:01.8310   \n",
       "164078           255  2019-02-05 08:48:11.3300  2019-02-05 08:52:27.0860   \n",
       "110200           171  2019-02-12 18:16:07.3780  2019-02-12 18:18:59.2720   \n",
       "\n",
       "        start_station_id                                 start_station_name  \\\n",
       "116293             323.0                                 Broadway at Kearny   \n",
       "9189                86.0                            Market St at Dolores St   \n",
       "155995             371.0                         Lombard St at Columbus Ave   \n",
       "134389              58.0                               Market St at 10th St   \n",
       "80060              171.0                             Rockridge BART Station   \n",
       "98770               81.0                                 Berry St at 4th St   \n",
       "144669              27.0                            Beale St at Harrison St   \n",
       "167458              13.0                     Commercial St at Montgomery St   \n",
       "141708              17.0   Embarcadero BART Station (Beale St at Market St)   \n",
       "83782              280.0                          San Fernando St at 7th St   \n",
       "98623               91.0                                Berry St at King St   \n",
       "98335              324.0                Union Square (Powell St at Post St)   \n",
       "98629               95.0                              Sanchez St at 15th St   \n",
       "177597              16.0                            Steuart St at Market St   \n",
       "44316               23.0                      The Embarcadero at Steuart St   \n",
       "149512             355.0                            23rd St at Tennessee St   \n",
       "172503              43.0  San Francisco Public Library (Grove St at Hyde...   \n",
       "2221                 7.0                                Frank H Ogawa Plaza   \n",
       "164078             107.0                              17th St at Dolores St   \n",
       "110200             276.0                           Julian St at The Alameda   \n",
       "\n",
       "        start_station_latitude  start_station_longitude  end_station_id  \\\n",
       "116293               37.798014              -122.405950           349.0   \n",
       "9189                 37.769305              -122.426826             3.0   \n",
       "155995               37.802746              -122.413579            17.0   \n",
       "134389               37.776619              -122.417385            93.0   \n",
       "80060                37.844279              -122.251900            18.0   \n",
       "98770                37.775880              -122.393170           104.0   \n",
       "144669               37.788059              -122.391865             6.0   \n",
       "167458               37.794231              -122.402923            21.0   \n",
       "141708               37.792251              -122.397086           126.0   \n",
       "83782                37.337122              -121.883215           277.0   \n",
       "98623                37.771762              -122.398438            62.0   \n",
       "98335                37.788300              -122.408531            80.0   \n",
       "98629                37.766219              -122.431060             6.0   \n",
       "177597               37.794130              -122.394430           114.0   \n",
       "44316                37.791464              -122.391034            61.0   \n",
       "149512               37.755367              -122.388795           144.0   \n",
       "172503               37.778768              -122.415929            70.0   \n",
       "2221                 37.804562              -122.271738           182.0   \n",
       "164078               37.763015              -122.426497           223.0   \n",
       "110200               37.332233              -121.912516           278.0   \n",
       "\n",
       "                                        end_station_name  \\\n",
       "116293                              Howard St at Mary St   \n",
       "9189        Powell St BART Station (Market St at 4th St)   \n",
       "155995  Embarcadero BART Station (Beale St at Market St)   \n",
       "134389                      4th St at Mission Bay Blvd S   \n",
       "80060                      Telegraph Ave at Alcatraz Ave   \n",
       "98770                                  4th St at 16th St   \n",
       "144669                     The Embarcadero at Sansome St   \n",
       "167458  Montgomery St BART Station (Market St at 2nd St)   \n",
       "141708                                       Esprit Park   \n",
       "83782                          Morrison Ave at Julian St   \n",
       "98623                        Victoria Manalo Draves Park   \n",
       "98335                              Townsend St at 5th St   \n",
       "98629                      The Embarcadero at Sansome St   \n",
       "177597                        Rhode Island St at 17th St   \n",
       "44316                                Howard St at 8th St   \n",
       "149512                                      Precita Park   \n",
       "172503                            Central Ave at Fell St   \n",
       "2221                            19th Street BART Station   \n",
       "164078                    16th St Mission BART Station 2   \n",
       "110200                            The Alameda at Bush St   \n",
       "\n",
       "        end_station_latitude  end_station_longitude  bike_id   user_type  \\\n",
       "116293             37.781010            -122.405666      875    Customer   \n",
       "9189               37.786375            -122.404904     1434  Subscriber   \n",
       "155995             37.792251            -122.397086     1248  Subscriber   \n",
       "134389             37.770407            -122.391198     4557  Subscriber   \n",
       "80060              37.850222            -122.260172     4904  Subscriber   \n",
       "98770              37.767045            -122.390833      311  Subscriber   \n",
       "144669             37.804770            -122.403234     4450  Subscriber   \n",
       "167458             37.789625            -122.400811     1537  Subscriber   \n",
       "141708             37.761634            -122.390648      663    Customer   \n",
       "83782              37.333658            -121.908586     3982  Subscriber   \n",
       "98623              37.777791            -122.406432     6132  Subscriber   \n",
       "98335              37.775235            -122.397437     2672    Customer   \n",
       "98629              37.804770            -122.403234     5286  Subscriber   \n",
       "177597             37.764478            -122.402570     2663    Customer   \n",
       "44316              37.776513            -122.411306     6500  Subscriber   \n",
       "149512             37.747300            -122.411403     3040  Subscriber   \n",
       "172503             37.773311            -122.444293     5228  Subscriber   \n",
       "2221               37.809013            -122.268247     5613  Subscriber   \n",
       "164078             37.764765            -122.420091      518  Subscriber   \n",
       "110200             37.331932            -121.904888     3901  Subscriber   \n",
       "\n",
       "        member_birth_year member_gender bike_share_for_all_trip  \n",
       "116293             1993.0          Male                      No  \n",
       "9189               1990.0          Male                      No  \n",
       "155995             1990.0          Male                      No  \n",
       "134389             1989.0          Male                      No  \n",
       "80060              1975.0        Female                      No  \n",
       "98770              1990.0        Female                     Yes  \n",
       "144669             1999.0        Female                      No  \n",
       "167458             1981.0        Female                      No  \n",
       "141708             1972.0        Female                      No  \n",
       "83782              1994.0          Male                     Yes  \n",
       "98623              1995.0        Female                      No  \n",
       "98335              1981.0          Male                      No  \n",
       "98629              1988.0        Female                      No  \n",
       "177597             1980.0        Female                      No  \n",
       "44316              1977.0          Male                     Yes  \n",
       "149512             1982.0          Male                      No  \n",
       "172503             1986.0          Male                      No  \n",
       "2221               1980.0         Other                     Yes  \n",
       "164078             1965.0          Male                      No  \n",
       "110200             1992.0          Male                     Yes  "
      ]
     },
     "execution_count": 5,
     "metadata": {},
     "output_type": "execute_result"
    }
   ],
   "source": [
    "df.sample(20)"
   ]
  },
  {
   "cell_type": "code",
   "execution_count": 6,
   "metadata": {},
   "outputs": [
    {
     "data": {
      "text/plain": [
       "0"
      ]
     },
     "execution_count": 6,
     "metadata": {},
     "output_type": "execute_result"
    }
   ],
   "source": [
    "df.duplicated().sum()"
   ]
  },
  {
   "cell_type": "code",
   "execution_count": 7,
   "metadata": {},
   "outputs": [
    {
     "data": {
      "text/plain": [
       "duration_sec                  0\n",
       "start_time                    0\n",
       "end_time                      0\n",
       "start_station_id            197\n",
       "start_station_name          197\n",
       "start_station_latitude        0\n",
       "start_station_longitude       0\n",
       "end_station_id              197\n",
       "end_station_name            197\n",
       "end_station_latitude          0\n",
       "end_station_longitude         0\n",
       "bike_id                       0\n",
       "user_type                     0\n",
       "member_birth_year          8265\n",
       "member_gender              8265\n",
       "bike_share_for_all_trip       0\n",
       "dtype: int64"
      ]
     },
     "execution_count": 7,
     "metadata": {},
     "output_type": "execute_result"
    }
   ],
   "source": [
    "df.isna().sum()"
   ]
  },
  {
   "attachments": {},
   "cell_type": "markdown",
   "metadata": {},
   "source": [
    "We will convert `member_birth_year` to int64 and `user_type` to categorical. We will also convert the time fields to datetime"
   ]
  },
  {
   "cell_type": "code",
   "execution_count": 17,
   "metadata": {},
   "outputs": [
    {
     "name": "stdout",
     "output_type": "stream",
     "text": [
      "<class 'pandas.core.frame.DataFrame'>\n",
      "RangeIndex: 183412 entries, 0 to 183411\n",
      "Data columns (total 16 columns):\n",
      " #   Column                   Non-Null Count   Dtype         \n",
      "---  ------                   --------------   -----         \n",
      " 0   duration_sec             183412 non-null  int64         \n",
      " 1   start_time               183412 non-null  datetime64[ns]\n",
      " 2   end_time                 183412 non-null  datetime64[ns]\n",
      " 3   start_station_id         183215 non-null  float64       \n",
      " 4   start_station_name       183215 non-null  object        \n",
      " 5   start_station_latitude   183412 non-null  float64       \n",
      " 6   start_station_longitude  183412 non-null  float64       \n",
      " 7   end_station_id           183215 non-null  float64       \n",
      " 8   end_station_name         183215 non-null  object        \n",
      " 9   end_station_latitude     183412 non-null  float64       \n",
      " 10  end_station_longitude    183412 non-null  float64       \n",
      " 11  bike_id                  183412 non-null  int64         \n",
      " 12  user_type                183412 non-null  category      \n",
      " 13  member_birth_year        183412 non-null  int64         \n",
      " 14  member_gender            175147 non-null  object        \n",
      " 15  bike_share_for_all_trip  183412 non-null  object        \n",
      "dtypes: category(1), datetime64[ns](2), float64(6), int64(3), object(4)\n",
      "memory usage: 21.2+ MB\n"
     ]
    }
   ],
   "source": [
    "df.member_birth_year.fillna(0,inplace=True)\n",
    "df.member_birth_year = df.member_birth_year.astype('int64')\n",
    "userclasses = pd.api.types.CategoricalDtype(ordered=True, categories=df.user_type.unique())\n",
    "df.user_type = df.user_type.astype(userclasses)\n",
    "df.start_time = pd.to_datetime(df.start_time)\n",
    "df.end_time = pd.to_datetime(df.end_time)\n",
    "\n",
    "df.info()"
   ]
  },
  {
   "cell_type": "code",
   "execution_count": 79,
   "metadata": {},
   "outputs": [
    {
     "name": "stdout",
     "output_type": "stream",
     "text": [
      "[2019]\n",
      "[2019]\n"
     ]
    }
   ],
   "source": [
    "print(df.start_time.dt.year.unique())\n",
    "print(df.end_time.dt.year.unique())"
   ]
  },
  {
   "attachments": {},
   "cell_type": "markdown",
   "metadata": {},
   "source": [
    "The dataset is from the year 2019"
   ]
  },
  {
   "cell_type": "code",
   "execution_count": null,
   "metadata": {},
   "outputs": [],
   "source": []
  },
  {
   "cell_type": "code",
   "execution_count": null,
   "metadata": {},
   "outputs": [],
   "source": []
  },
  {
   "attachments": {},
   "cell_type": "markdown",
   "metadata": {},
   "source": [
    "### What is the structure of your dataset?\n",
    "\n",
    "> The dataset has 16 columns and 183412 observations\n",
    "\n",
    "### What is/are the main feature(s) of interest in your dataset?\n",
    "\n",
    "> For me it's how age, gender, user_type, day related with a trip durations\n",
    "\n",
    "### What features in the dataset do you think will help support your investigation into your feature(s) of interest?\n",
    "\n",
    "> Age, Gender, User type, Day of the week and Ride duration"
   ]
  },
  {
   "cell_type": "markdown",
   "metadata": {},
   "source": [
    "## Univariate Exploration\n",
    "\n",
    "> In this section, investigate distributions of individual variables. If\n",
    "you see unusual points or outliers, take a deeper look to clean things up\n",
    "and prepare yourself to look at relationships between variables.\n",
    "\n",
    "\n",
    "> **Rubric Tip**: The project (Parts I alone) should have at least 15 visualizations distributed over univariate, bivariate, and multivariate plots to explore many relationships in the data set.  Use reasoning to justify the flow of the exploration.\n",
    "\n",
    "\n",
    "\n",
    ">**Rubric Tip**: Use the \"Question-Visualization-Observations\" framework  throughout the exploration. This framework involves **asking a question from the data, creating a visualization to find answers, and then recording observations after each visualisation.** \n"
   ]
  },
  {
   "attachments": {},
   "cell_type": "markdown",
   "metadata": {},
   "source": [
    "### Q1: What is the distribution of `duration_sec`?"
   ]
  },
  {
   "cell_type": "code",
   "execution_count": 22,
   "metadata": {},
   "outputs": [
    {
     "data": {
      "image/png": "[encoded data removed]",
      "text/plain": [
       "<Figure size 640x480 with 1 Axes>"
      ]
     },
     "metadata": {},
     "output_type": "display_data"
    }
   ],
   "source": [
    "bins = np.arange(0,df.duration_sec.max()+100, 100)\n",
    "plt.hist(x='duration_sec',data=df,bins=bins)\n",
    "plt.xlim(0,7000)\n",
    "plt.title('Distribution of Trip Duration (sec)')\n",
    "plt.xlabel('Duration (sec)');"
   ]
  },
  {
   "attachments": {},
   "cell_type": "markdown",
   "metadata": {},
   "source": [
    "We can see majority of the trips are from 0sec to 1000 secs. Instead of doing mental calculation on how much it is in minutes we can convert the seconds to minutes and change the scale to a log."
   ]
  },
  {
   "cell_type": "code",
   "execution_count": 28,
   "metadata": {},
   "outputs": [
    {
     "data": {
      "image/png": "[encoded data removed]",
      "text/plain": [
       "<Figure size 640x480 with 1 Axes>"
      ]
     },
     "metadata": {},
     "output_type": "display_data"
    }
   ],
   "source": [
    "df['duration_min'] = df.duration_sec / 60\n",
    "bins = 10**np.arange(0 , 3 + 0.1 , 0.1)\n",
    "ticks = [1,3,10,30,100,300,1000]\n",
    "labels = ['{}'.format(b) for b in ticks]\n",
    "plt.hist(x='duration_min',data=df,bins=bins)\n",
    "plt.xscale('log')\n",
    "plt.title('Distribution of Trip Duration (min)')\n",
    "plt.xticks(ticks,labels)\n",
    "plt.xlabel('Duration (min)');"
   ]
  },
  {
   "attachments": {},
   "cell_type": "markdown",
   "metadata": {},
   "source": [
    "We can clearly see the peak is at ~ 10 minute mark."
   ]
  },
  {
   "attachments": {},
   "cell_type": "markdown",
   "metadata": {},
   "source": [
    "### Q2: What's the percentage of subscribers and what which `user_type` consitutes the majority?"
   ]
  },
  {
   "cell_type": "code",
   "execution_count": 30,
   "metadata": {},
   "outputs": [
    {
     "data": {
      "image/png": "[encoded data removed]",
      "text/plain": [
       "<Figure size 640x480 with 1 Axes>"
      ]
     },
     "metadata": {},
     "output_type": "display_data"
    }
   ],
   "source": [
    "user_type_counts = df.user_type.value_counts()\n",
    "plt.pie(user_type_counts,labels=user_type_counts.index,startangle = 90, counterclock = False,\n",
    "        autopct='%.2f');"
   ]
  },
  {
   "attachments": {},
   "cell_type": "markdown",
   "metadata": {},
   "source": [
    "In this dataset subscribers count to 89% of the user base."
   ]
  },
  {
   "attachments": {},
   "cell_type": "markdown",
   "metadata": {},
   "source": [
    "### Q3: What is the gender distribution in this dataset"
   ]
  },
  {
   "cell_type": "code",
   "execution_count": 37,
   "metadata": {},
   "outputs": [
    {
     "data": {
      "image/png": "[encoded data removed]",
      "text/plain": [
       "<Figure size 640x480 with 1 Axes>"
      ]
     },
     "metadata": {},
     "output_type": "display_data"
    }
   ],
   "source": [
    "color = sb.color_palette()[4]\n",
    "gender_order = df.member_gender.value_counts().index\n",
    "sb.countplot(data=df,x='member_gender',order = gender_order,color=color)\n",
    "plt.xlabel('Gender')\n",
    "plt.title('Gender distribution ');"
   ]
  },
  {
   "attachments": {},
   "cell_type": "markdown",
   "metadata": {},
   "source": [
    "Users are exceedingly male with about 120,000 while females are 40,000 users"
   ]
  },
  {
   "attachments": {},
   "cell_type": "markdown",
   "metadata": {},
   "source": [
    "### Q4: Whats the percentage of users who are enrolled in the Bike Share for All programs"
   ]
  },
  {
   "cell_type": "code",
   "execution_count": 40,
   "metadata": {},
   "outputs": [
    {
     "data": {
      "text/plain": [
       "Text(0.5, 1.0, 'Percentage of users enrolled in the Bike Share for All program')"
      ]
     },
     "execution_count": 40,
     "metadata": {},
     "output_type": "execute_result"
    },
    {
     "data": {
      "image/png": "[encoded data removed]",
      "text/plain": [
       "<Figure size 640x480 with 1 Axes>"
      ]
     },
     "metadata": {},
     "output_type": "display_data"
    }
   ],
   "source": [
    "bike_share_counts = df.bike_share_for_all_trip.value_counts()\n",
    "plt.pie(bike_share_counts,labels=bike_share_counts.index,startangle = 90, counterclock = False,\n",
    "        autopct='%.2f')\n",
    "plt.title('Percentage of users enrolled in the Bike Share for All program');"
   ]
  },
  {
   "attachments": {},
   "cell_type": "markdown",
   "metadata": {},
   "source": [
    "Most of the users are not enrolled in the Bike Share for All program"
   ]
  },
  {
   "attachments": {},
   "cell_type": "markdown",
   "metadata": {},
   "source": [
    "### Q5: For columns missing data, how much are they missing and whats the proportion?"
   ]
  },
  {
   "cell_type": "code",
   "execution_count": 76,
   "metadata": {},
   "outputs": [],
   "source": []
  },
  {
   "cell_type": "code",
   "execution_count": 77,
   "metadata": {},
   "outputs": [
    {
     "data": {
      "image/png": "[encoded data removed]",
      "text/plain": [
       "<Figure size 640x480 with 1 Axes>"
      ]
     },
     "metadata": {},
     "output_type": "display_data"
    }
   ],
   "source": [
    "total_count = df.shape[0]\n",
    "\n",
    "# Inorder to convert the member_birth_year to int we had to fillna with 0\n",
    "# So that member_birth_year can show up in this visualization we will create a copy of the dataframe\n",
    "# And set member_birth_year values that are 0 tp NaN\n",
    "missing_data = df.copy()\n",
    "missing_data.loc[missing_data.member_birth_year == 0,'member_birth_year'] = np.nan\n",
    "\n",
    "na_counts = missing_data[['start_station_id','start_station_name','end_station_id',\n",
    "                'end_station_name','member_gender','member_birth_year'\n",
    "                ]].isna().sum() / total_count * 100\n",
    "na_counts = na_counts.sort_values(ascending=False)\n",
    "sb.barplot(x=na_counts.index.values, y=na_counts,order=na_counts.index, color=color)\n",
    "\n",
    "plt.xticks(rotation=45) \n",
    "\n",
    "for i in range (na_counts.shape[0]):\n",
    "    count = round(na_counts[i],1)\n",
    "\n",
    "    plt.text(i, count+0.15, f'{count}%', ha = 'center', va='top')\n",
    "\n",
    "plt.title('Proportion of missing data')\n",
    "plt.xlabel('Column')\n",
    "plt.ylabel('Percentage (%)');"
   ]
  },
  {
   "attachments": {},
   "cell_type": "markdown",
   "metadata": {},
   "source": [
    "`member_gender` and `member_birth_year` is missing 4.5% of the total data while the other columns are missing only 0.1%"
   ]
  },
  {
   "attachments": {},
   "cell_type": "markdown",
   "metadata": {},
   "source": [
    "### Q6: Distribution of `member_birth_year`"
   ]
  },
  {
   "cell_type": "code",
   "execution_count": 71,
   "metadata": {},
   "outputs": [
    {
     "data": {
      "image/png": "[encoded data removed]",
      "text/plain": [
       "<Figure size 2000x1000 with 1 Axes>"
      ]
     },
     "metadata": {},
     "output_type": "display_data"
    }
   ],
   "source": [
    "plt.figure(figsize=(20 , 10))\n",
    "birth_year = df.query('member_birth_year>0')\n",
    "sb.countplot(data=birth_year,x='member_birth_year',color=color)\n",
    "plt.xticks(rotation = 90);"
   ]
  },
  {
   "attachments": {},
   "cell_type": "markdown",
   "metadata": {},
   "source": [
    "Most of the users were born around 1986 - 1995. To put this into context of age of the users , we will calculate it by subtracting 2019 from the birth_year since the data was from the year 2019. "
   ]
  },
  {
   "cell_type": "code",
   "execution_count": 91,
   "metadata": {},
   "outputs": [],
   "source": [
    "df.iloc[df.age == 2019] = np.NAN"
   ]
  },
  {
   "cell_type": "code",
   "execution_count": 81,
   "metadata": {},
   "outputs": [
    {
     "data": {
      "text/plain": [
       "count    183412.000000\n",
       "mean        123.633868\n",
       "std         411.850439\n",
       "min          18.000000\n",
       "25%          27.000000\n",
       "50%          32.000000\n",
       "75%          40.000000\n",
       "max        2019.000000\n",
       "Name: age, dtype: float64"
      ]
     },
     "execution_count": 81,
     "metadata": {},
     "output_type": "execute_result"
    }
   ],
   "source": [
    "df['age'] = 2019 - df.member_birth_year\n",
    "df.age.describe()"
   ]
  },
  {
   "cell_type": "code",
   "execution_count": 92,
   "metadata": {},
   "outputs": [
    {
     "data": {
      "image/png": "[encoded data removed]",
      "text/plain": [
       "<Figure size 2000x1000 with 1 Axes>"
      ]
     },
     "metadata": {},
     "output_type": "display_data"
    }
   ],
   "source": [
    "fig, ax = plt.subplots(figsize=(20 , 10))\n",
    "sb.countplot(x='age',data=df,color=color)\n",
    "plt.xticks(rotation=90)\n",
    "ax.set(xlim = (0,100));"
   ]
  },
  {
   "cell_type": "code",
   "execution_count": null,
   "metadata": {},
   "outputs": [],
   "source": []
  },
  {
   "cell_type": "code",
   "execution_count": null,
   "metadata": {},
   "outputs": [],
   "source": []
  },
  {
   "cell_type": "code",
   "execution_count": null,
   "metadata": {},
   "outputs": [],
   "source": []
  },
  {
   "cell_type": "code",
   "execution_count": null,
   "metadata": {},
   "outputs": [],
   "source": []
  },
  {
   "cell_type": "markdown",
   "metadata": {},
   "source": [
    "\n",
    "\n",
    ">**Rubric Tip**: Visualizations should depict the data appropriately so that the plots are easily interpretable. You should choose an appropriate plot type, data encodings, and formatting as needed. The formatting may include setting/adding the title, labels, legend, and comments. Also, do not overplot or incorrectly plot ordinal data."
   ]
  },
  {
   "cell_type": "code",
   "execution_count": null,
   "metadata": {},
   "outputs": [],
   "source": []
  },
  {
   "cell_type": "markdown",
   "metadata": {},
   "source": [
    "### Discuss the distribution(s) of your variable(s) of interest. Were there any unusual points? Did you need to perform any transformations?\n",
    "\n",
    "> Your answer here!\n",
    "\n",
    "### Of the features you investigated, were there any unusual distributions? Did you perform any operations on the data to tidy, adjust, or change the form of the data? If so, why did you do this?\n",
    "\n",
    "> Your answer here!"
   ]
  },
  {
   "cell_type": "markdown",
   "metadata": {},
   "source": [
    "## Bivariate Exploration\n",
    "\n",
    "> In this section, investigate relationships between pairs of variables in your\n",
    "data. Make sure the variables that you cover here have been introduced in some\n",
    "fashion in the previous section (univariate exploration)."
   ]
  },
  {
   "cell_type": "code",
   "execution_count": null,
   "metadata": {},
   "outputs": [],
   "source": []
  },
  {
   "cell_type": "markdown",
   "metadata": {},
   "source": [
    "### Talk about some of the relationships you observed in this part of the investigation. How did the feature(s) of interest vary with other features in the dataset?\n",
    "\n",
    "> Your answer here!\n",
    "\n",
    "### Did you observe any interesting relationships between the other features (not the main feature(s) of interest)?\n",
    "\n",
    "> Your answer here!"
   ]
  },
  {
   "cell_type": "markdown",
   "metadata": {},
   "source": [
    "## Multivariate Exploration\n",
    "\n",
    "> Create plots of three or more variables to investigate your data even\n",
    "further. Make sure that your investigations are justified, and follow from\n",
    "your work in the previous sections."
   ]
  },
  {
   "cell_type": "code",
   "execution_count": null,
   "metadata": {},
   "outputs": [],
   "source": []
  },
  {
   "cell_type": "markdown",
   "metadata": {},
   "source": [
    "### Talk about some of the relationships you observed in this part of the investigation. Were there features that strengthened each other in terms of looking at your feature(s) of interest?\n",
    "\n",
    "> Your answer here!\n",
    "\n",
    "### Were there any interesting or surprising interactions between features?\n",
    "\n",
    "> Your answer here!"
   ]
  },
  {
   "cell_type": "markdown",
   "metadata": {},
   "source": [
    "## Conclusions\n",
    ">You can write a summary of the main findings and reflect on the steps taken during the data exploration.\n"
   ]
  },
  {
   "cell_type": "markdown",
   "metadata": {},
   "source": [
    "\n",
    "> Remove all Tips mentioned above, before you convert this notebook to PDF/HTML\n",
    "\n",
    "\n",
    "> At the end of your report, make sure that you export the notebook as an\n",
    "html file from the `File > Download as... > HTML or PDF` menu. Make sure you keep\n",
    "track of where the exported file goes, so you can put it in the same folder\n",
    "as this notebook for project submission. Also, make sure you remove all of\n",
    "the quote-formatted guide notes like this one before you finish your report!\n",
    "\n"
   ]
  },
  {
   "cell_type": "code",
   "execution_count": null,
   "metadata": {},
   "outputs": [],
   "source": []
  }
 ],
 "metadata": {
  "kernelspec": {
   "display_name": "base",
   "language": "python",
   "name": "python3"
  },
  "language_info": {
   "codemirror_mode": {
    "name": "ipython",
    "version": 3
   },
   "file_extension": ".py",
   "mimetype": "text/x-python",
   "name": "python",
   "nbconvert_exporter": "python",
   "pygments_lexer": "ipython3",
   "version": "3.9.13"
  },
  "vscode": {
   "interpreter": {
    "hash": "ad2bdc8ecc057115af97d19610ffacc2b4e99fae6737bb82f5d7fb13d2f2c186"
   }
  }
 },
 "nbformat": 4,
 "nbformat_minor": 2
}
